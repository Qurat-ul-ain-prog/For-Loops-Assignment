{
 "cells": [
  {
   "cell_type": "markdown",
   "id": "d348b1e0-aea2-4c48-bc35-e3a133e96d6b",
   "metadata": {},
   "source": [
    "# Practice Questions"
   ]
  },
  {
   "cell_type": "markdown",
   "id": "b5d09c59-fd43-4f64-a84b-3483701edb83",
   "metadata": {},
   "source": [
    "## Question 1 : Write a for loop to print all even numbers from 2 to 20."
   ]
  },
  {
   "cell_type": "code",
   "execution_count": 14,
   "id": "dad0e202-f6d0-44a4-b17b-1d7a47fe2c15",
   "metadata": {},
   "outputs": [
    {
     "name": "stdout",
     "output_type": "stream",
     "text": [
      "2\n",
      "4\n",
      "6\n",
      "8\n",
      "10\n",
      "12\n",
      "14\n",
      "16\n",
      "18\n",
      "20\n"
     ]
    }
   ],
   "source": [
    "for num in range(2, 21, 2):\n",
    "    print(num)"
   ]
  },
  {
   "cell_type": "markdown",
   "id": "6d7bc828-0196-4c4b-af1a-6d2e8397348b",
   "metadata": {},
   "source": [
    "# Question 2 : Create a list of names and use a for loop to print each name in uppercase."
   ]
  },
  {
   "cell_type": "code",
   "execution_count": 78,
   "id": "7ab44b14-5f1f-4a5a-9806-2e7958bc8c37",
   "metadata": {},
   "outputs": [
    {
     "name": "stdout",
     "output_type": "stream",
     "text": [
      "ALI\n",
      "RAHIM\n",
      "ARSAL\n",
      "DAVID\n",
      "JACK\n"
     ]
    }
   ],
   "source": [
    "# List of names\n",
    "names = [\"Ali\", \"Rahim\", \"Arsal\", \"David\", \"Jack\"]\n",
    "\n",
    "# Using a for loop to print each name in uppercase\n",
    "for name in names:\n",
    "    print(name.upper())"
   ]
  },
  {
   "cell_type": "markdown",
   "id": "fe00b436-213d-4eca-87d2-23857043f276",
   "metadata": {},
   "source": [
    "# Question 3 : Use a for loop with range() to print numbers from 10 to 1 in reverse order."
   ]
  },
  {
   "cell_type": "code",
   "execution_count": 59,
   "id": "201402bc-6450-494f-a652-1849339b60fe",
   "metadata": {},
   "outputs": [
    {
     "name": "stdout",
     "output_type": "stream",
     "text": [
      "10\n",
      "9\n",
      "8\n",
      "7\n",
      "6\n",
      "5\n",
      "4\n",
      "3\n",
      "2\n",
      "1\n"
     ]
    }
   ],
   "source": [
    "# Using range() to print numbers from 10 to 1 in reverse order\n",
    "for number in range(10, 0, -1):\n",
    "    print(number)"
   ]
  },
  {
   "cell_type": "markdown",
   "id": "1e8a7319-8e04-4723-aec5-690518047e26",
   "metadata": {},
   "source": [
    "# Question 4 : Iterate through a list of integers and print only the numbers that are divisible by 3."
   ]
  },
  {
   "cell_type": "code",
   "execution_count": 80,
   "id": "6a73d1ac-8b4b-4b16-b3b1-38e444aa391a",
   "metadata": {},
   "outputs": [
    {
     "name": "stdout",
     "output_type": "stream",
     "text": [
      "15\n",
      "30\n",
      "42\n",
      "60\n"
     ]
    }
   ],
   "source": [
    "# List of integers\n",
    "numbers = [10, 15, 23, 30, 42, 55, 60]\n",
    "\n",
    "# Iterate through the list and print numbers divisible by 3\n",
    "for number in numbers:\n",
    "    if number % 3 == 0:\n",
    "        print(number)"
   ]
  },
  {
   "cell_type": "markdown",
   "id": "3f03faf4-9c84-4767-84f1-dbd349647573",
   "metadata": {},
   "source": [
    "# Question 5 : Write a loop that prints the squares of numbers from 1 to 10."
   ]
  },
  {
   "cell_type": "code",
   "execution_count": 63,
   "id": "475bce38-3ff5-4b7f-8ce8-c6a33f29c3cf",
   "metadata": {},
   "outputs": [
    {
     "name": "stdout",
     "output_type": "stream",
     "text": [
      "1\n",
      "4\n",
      "9\n",
      "16\n",
      "25\n",
      "36\n",
      "49\n",
      "64\n",
      "81\n",
      "100\n"
     ]
    }
   ],
   "source": [
    "# Loop to print the squares of numbers from 1 to 10\n",
    "for number in range(1, 11):\n",
    "    print(number ** 2)"
   ]
  },
  {
   "cell_type": "markdown",
   "id": "f52294c4-8489-4ab7-b42e-99546fbb2052",
   "metadata": {},
   "source": [
    "# Question 6 : Given a list of temperatures in Celsius, use a for loop to convert each to Fahrenheit."
   ]
  },
  {
   "cell_type": "code",
   "execution_count": 82,
   "id": "0bbd8cfe-8546-4426-b605-fff6e6b691c5",
   "metadata": {},
   "outputs": [
    {
     "name": "stdout",
     "output_type": "stream",
     "text": [
      "0°C is 32.0°F\n",
      "10°C is 50.0°F\n",
      "20°C is 68.0°F\n",
      "30°C is 86.0°F\n",
      "40°C is 104.0°F\n"
     ]
    }
   ],
   "source": [
    "# List of temperatures in Celsius\n",
    "celsius_temperatures = [0, 10, 20, 30, 40]\n",
    "\n",
    "# Loop to convert each temperature to Fahrenheit and print it\n",
    "for celsius in celsius_temperatures:\n",
    "    fahrenheit = (celsius * 9/5) + 32\n",
    "    print(f\"{celsius}°C is {fahrenheit}°F\")"
   ]
  },
  {
   "cell_type": "markdown",
   "id": "a8f2887d-f8e2-4670-8209-0160b525031f",
   "metadata": {},
   "source": [
    "# Question 7 : Create a for loop that prints the multiplication table of 5."
   ]
  },
  {
   "cell_type": "code",
   "execution_count": 68,
   "id": "e0f6f090-b1ea-4242-81b7-1b79b4a912a4",
   "metadata": {},
   "outputs": [
    {
     "name": "stdout",
     "output_type": "stream",
     "text": [
      "5 x 1 = 5\n",
      "5 x 2 = 10\n",
      "5 x 3 = 15\n",
      "5 x 4 = 20\n",
      "5 x 5 = 25\n",
      "5 x 6 = 30\n",
      "5 x 7 = 35\n",
      "5 x 8 = 40\n",
      "5 x 9 = 45\n",
      "5 x 10 = 50\n"
     ]
    }
   ],
   "source": [
    "# Loop to print the multiplication table of 5\n",
    "for i in range(1, 11):\n",
    "    print(f\"5 x {i} = {5 * i}\")"
   ]
  },
  {
   "cell_type": "markdown",
   "id": "8605309d-9880-4507-b705-dd25d6633d32",
   "metadata": {},
   "source": [
    "# Question 8 : Write a program to find the sum of all numbers in a list using a for loop."
   ]
  },
  {
   "cell_type": "code",
   "execution_count": 71,
   "id": "81248ee6-3bb4-44ae-af73-938b67fb6f47",
   "metadata": {},
   "outputs": [
    {
     "name": "stdout",
     "output_type": "stream",
     "text": [
      "The sum of all numbers is: 21\n"
     ]
    }
   ],
   "source": [
    "# List of numbers\n",
    "numbers = [1, 2, 3, 4, 5, 6]\n",
    "\n",
    "# Variable to store the sum\n",
    "total_sum = 0\n",
    "\n",
    "# Loop through the list and add each number to total_sum\n",
    "for number in numbers:\n",
    "    total_sum += number\n",
    "\n",
    "# Print the total sum\n",
    "print(f\"The sum of all numbers is: {total_sum}\")"
   ]
  },
  {
   "cell_type": "markdown",
   "id": "7baf9cf5-07af-465e-b193-e0a18d13f967",
   "metadata": {},
   "source": [
    "# Question 9 : Use a for loop to iterate through a string and print each character separately."
   ]
  },
  {
   "cell_type": "code",
   "execution_count": 74,
   "id": "2ff6743d-31ac-461a-8b37-179a460e1e3d",
   "metadata": {},
   "outputs": [
    {
     "name": "stdout",
     "output_type": "stream",
     "text": [
      "H\n",
      "e\n",
      "l\n",
      "l\n",
      "o\n"
     ]
    }
   ],
   "source": [
    "# String to iterate through\n",
    "text = \"Hello\"\n",
    "\n",
    "# Loop through each character in the string and print it\n",
    "for char in text:\n",
    "    print(char)"
   ]
  },
  {
   "cell_type": "markdown",
   "id": "3e775078-e043-43ef-a79d-b5809d3f0fa8",
   "metadata": {},
   "source": [
    "# Question 10 : Create a list of words and use a for loop to print only the words with more than 5 letters."
   ]
  },
  {
   "cell_type": "code",
   "execution_count": 76,
   "id": "fe466148-2a5c-4b37-b1bd-86c29df37049",
   "metadata": {},
   "outputs": [
    {
     "name": "stdout",
     "output_type": "stream",
     "text": [
      "banana\n",
      "cherry\n",
      "strawberry\n"
     ]
    }
   ],
   "source": [
    "# List of words\n",
    "words = [\"apple\", \"banana\", \"cherry\", \"kiwi\", \"strawberry\", \"grape\"]\n",
    "\n",
    "# Loop through the list and print words with more than 5 letters\n",
    "for word in words:\n",
    "    if len(word) > 5:\n",
    "        print(word)"
   ]
  }
 ],
 "metadata": {
  "kernelspec": {
   "display_name": "Python [conda env:base] *",
   "language": "python",
   "name": "conda-base-py"
  },
  "language_info": {
   "codemirror_mode": {
    "name": "ipython",
    "version": 3
   },
   "file_extension": ".py",
   "mimetype": "text/x-python",
   "name": "python",
   "nbconvert_exporter": "python",
   "pygments_lexer": "ipython3",
   "version": "3.12.7"
  }
 },
 "nbformat": 4,
 "nbformat_minor": 5
}
